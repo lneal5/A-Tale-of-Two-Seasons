{
  "nbformat": 4,
  "nbformat_minor": 0,
  "metadata": {
    "colab": {
      "name": "A Tale of Two Seasons.ipynb",
      "provenance": [],
      "authorship_tag": "ABX9TyOQEak5pG8jky+7jPy0G2+E",
      "include_colab_link": true
    },
    "kernelspec": {
      "name": "python3",
      "display_name": "Python 3"
    },
    "language_info": {
      "name": "python"
    }
  },
  "cells": [
    {
      "cell_type": "markdown",
      "metadata": {
        "id": "view-in-github",
        "colab_type": "text"
      },
      "source": [
        "<a href=\"https://colab.research.google.com/github/lneal5/A-Tale-of-Two-Seasons/blob/main/A_Tale_of_Two_Seasons.ipynb\" target=\"_parent\"><img src=\"https://colab.research.google.com/assets/colab-badge.svg\" alt=\"Open In Colab\"/></a>"
      ]
    },
    {
      "cell_type": "code",
      "execution_count": null,
      "metadata": {
        "id": "Qn9r5XgoliQN"
      },
      "outputs": [],
      "source": [
        "# A Tale of Two Seasons Planning\n",
        "\n",
        "\n",
        "# 1. Europeana API resources links\n",
        "      # signature https://api.europeana.eu/record/v2/search.json\n",
        "      # technical documentation https://pro.europeana.eu/page/apis \n",
        "      # forum https://groups.google.com/g/europeanaapi\n",
        "      # support api@europeana.eu \n",
        "      # application gallery https://pro.europeana.eu/resources/apps  \n",
        "  \n",
        "\n",
        "# 2. Request Europeana API key - ntileyer\n",
        "\n",
        "# 3. Extract the autumn-winter metadata \n",
        "\n",
        "    # 3a. Extract the autumn-winter Item type\n",
        "\n",
        "    # 3b. Extract the autumn-winter Color\n",
        "\n",
        "    # 3c. Extract the autumn-winter Material\n",
        "\n",
        "    # 3d. Extract the autumn-winter Technique\n",
        "\n",
        "# 4. Extract the spring-summer metadata\n",
        "\n",
        "    # 4a. Extract the autumn-winter Item type\n",
        "\n",
        "    # 4b. Extract the autumn-winter Color\n",
        "\n",
        "    # 4c. Extract the autumn-winter Material\n",
        "\n",
        "    # 4d. Extract the autumn-winter Technique\n",
        "\n",
        "# 5. Export results into a JSON\n",
        "\n",
        "# 6.Create visualization\n"
      ]
    }
  ]
}